{
  "nbformat": 4,
  "nbformat_minor": 0,
  "metadata": {
    "colab": {
      "provenance": []
    },
    "kernelspec": {
      "name": "ir",
      "display_name": "R"
    },
    "language_info": {
      "name": "R"
    }
  },
  "cells": [
    {
      "cell_type": "code",
      "execution_count": 4,
      "metadata": {
        "colab": {
          "base_uri": "https://localhost:8080/"
        },
        "id": "o_5BMdv9GtTU",
        "outputId": "d6c5d131-0c26-46cd-a279-bbffdaf4d538"
      },
      "outputs": [
        {
          "output_type": "stream",
          "name": "stderr",
          "text": [
            "Installing package into ‘/usr/local/lib/R/site-library’\n",
            "(as ‘lib’ is unspecified)\n",
            "\n"
          ]
        }
      ],
      "source": [
        "install.packages(\"dplyr\")"
      ]
    },
    {
      "cell_type": "code",
      "source": [
        "install.packages(\"visdat\")"
      ],
      "metadata": {
        "colab": {
          "base_uri": "https://localhost:8080/"
        },
        "id": "nbDCY09oHGsa",
        "outputId": "879c491a-58c0-4850-b532-d858e231e859"
      },
      "execution_count": 5,
      "outputs": [
        {
          "output_type": "stream",
          "name": "stderr",
          "text": [
            "Installing package into ‘/usr/local/lib/R/site-library’\n",
            "(as ‘lib’ is unspecified)\n",
            "\n"
          ]
        }
      ]
    },
    {
      "cell_type": "code",
      "source": [
        "install.packages(\"caret\")"
      ],
      "metadata": {
        "colab": {
          "base_uri": "https://localhost:8080/"
        },
        "id": "_O8OyhjsHRWk",
        "outputId": "e0d5bff0-336c-47c2-e49e-1c701dce629e"
      },
      "execution_count": 10,
      "outputs": [
        {
          "output_type": "stream",
          "name": "stderr",
          "text": [
            "Installing package into ‘/usr/local/lib/R/site-library’\n",
            "(as ‘lib’ is unspecified)\n",
            "\n",
            "also installing the dependencies ‘listenv’, ‘parallelly’, ‘future’, ‘globals’, ‘shape’, ‘future.apply’, ‘numDeriv’, ‘progressr’, ‘SQUAREM’, ‘diagram’, ‘lava’, ‘prodlim’, ‘proxy’, ‘iterators’, ‘clock’, ‘gower’, ‘hardhat’, ‘ipred’, ‘sparsevctrs’, ‘timeDate’, ‘e1071’, ‘foreach’, ‘ModelMetrics’, ‘plyr’, ‘pROC’, ‘recipes’, ‘reshape2’\n",
            "\n",
            "\n"
          ]
        }
      ]
    },
    {
      "cell_type": "code",
      "source": [
        "install.packages(\"patchwork\")"
      ],
      "metadata": {
        "colab": {
          "base_uri": "https://localhost:8080/"
        },
        "id": "2apRRa-CMAdq",
        "outputId": "7466129e-6a34-4f00-adcb-1ea7151d648a"
      },
      "execution_count": 17,
      "outputs": [
        {
          "output_type": "stream",
          "name": "stderr",
          "text": [
            "Installing package into ‘/usr/local/lib/R/site-library’\n",
            "(as ‘lib’ is unspecified)\n",
            "\n"
          ]
        }
      ]
    },
    {
      "cell_type": "code",
      "source": [
        "# Создание синтетического датасета с различными проблемами\n",
        "set.seed(42)\n",
        "n <- 1000\n",
        "\n",
        "# Генерация данных с проблемами\n",
        "synthetic_data <- data.frame(\n",
        "  age = round(rnorm(n, 35, 10)),\n",
        "  income = rnorm(n, 50000, 15000),\n",
        "  education = sample(c(\"HS\", \"Bachelor\", \"Master\", \"PhD\", \"Unknown\"),\n",
        "                     n, replace = TRUE, prob = c(0.3, 0.4, 0.2, 0.08, 0.02)),\n",
        "  city = sample(c(\"New York\", \"Boston\", \"Chicago\", \"Los Angeles\", \"Miami\"),\n",
        "                n, replace = TRUE),\n",
        "  purchase_amount = rgamma(n, shape = 2, rate = 0.01),\n",
        "  # Добавляем проблемы\n",
        "  age_na = ifelse(runif(n) < 0.05, NA, round(rnorm(n, 35, 10))),\n",
        "  income_outliers = ifelse(runif(n) < 0.03, rnorm(n, 150000, 50000),\n",
        "                           rnorm(n, 50000, 15000)),\n",
        "  duplicate_flag = sample(1:200, n, replace = TRUE)  # Создаем дубликаты\n",
        ")\n",
        "\n",
        "# Добавляем дубликаты\n",
        "duplicates <- synthetic_data[sample(1:n, 20), ]\n",
        "synthetic_data <- rbind(synthetic_data, duplicates)\n",
        "\n",
        "cat(\"Размер датасета:\", dim(synthetic_data), \"\\n\")\n",
        "cat(\"Структура данных:\\n\")\n",
        "str(synthetic_data)\n"
      ],
      "metadata": {
        "colab": {
          "base_uri": "https://localhost:8080/"
        },
        "id": "IMuGjcVBG3fN",
        "outputId": "51e1eac6-2650-48bc-a49d-b9080d6fa450"
      },
      "execution_count": 18,
      "outputs": [
        {
          "output_type": "stream",
          "name": "stdout",
          "text": [
            "Размер датасета: 1020 8 \n",
            "Структура данных:\n",
            "'data.frame':\t1020 obs. of  8 variables:\n",
            " $ age            : num  49 29 39 41 39 34 50 34 55 34 ...\n",
            " $ income         : num  84876 57862 64561 55655 35061 ...\n",
            " $ education      : chr  \"HS\" \"PhD\" \"Bachelor\" \"Master\" ...\n",
            " $ city           : chr  \"Los Angeles\" \"Chicago\" \"Boston\" \"Boston\" ...\n",
            " $ purchase_amount: num  382 245 194 725 309 ...\n",
            " $ age_na         : num  NA 26 35 17 51 32 43 13 31 52 ...\n",
            " $ income_outliers: num  44399 43907 56356 65400 55072 ...\n",
            " $ duplicate_flag : int  120 69 78 61 133 133 57 178 103 38 ...\n"
          ]
        }
      ]
    },
    {
      "cell_type": "code",
      "source": [
        "# 1. ОБНАРУЖЕНИЕ И ОБРАБОТКА ПРОПУЩЕННЫХ ЗНАЧЕНИЙ\n",
        "library(dplyr)\n",
        "library(ggplot2)\n",
        "\n",
        "# Анализ пропущенных значений\n",
        "missing_analysis <- function(data) {\n",
        "  cat(\"Пропущенные значения по столбцам:\\n\")\n",
        "  print(colSums(is.na(data)))\n",
        "\n",
        "  # Визуализация пропущенных значений\n",
        "  library(visdat)\n",
        "  vis_miss(data)\n",
        "}\n",
        "\n",
        "missing_analysis(synthetic_data)\n",
        "\n",
        "# Заполнение пропущенных значений\n",
        "clean_data <- synthetic_data %>%\n",
        "  mutate(\n",
        "    age_na = ifelse(is.na(age_na), median(age_na, na.rm = TRUE), age_na),\n",
        "    education = ifelse(education == \"Unknown\", NA, education)\n",
        "  ) %>%\n",
        "  tidyr::drop_na(education)  # Удаляем строки с пропусками в education\n",
        "\n",
        "cat(\"После обработки пропусков:\", dim(clean_data), \"\\n\")\n",
        "\n",
        "# 2. ОБРАБОТКА ВЫБРОСОВ\n",
        "handle_outliers <- function(data) {\n",
        "  # Метод IQR для обнаружения выбросов\n",
        "  identify_outliers <- function(x) {\n",
        "    Q1 <- quantile(x, 0.25, na.rm = TRUE)\n",
        "    Q3 <- quantile(x, 0.75, na.rm = TRUE)\n",
        "    IQR <- Q3 - Q1\n",
        "    lower_bound <- Q1 - 1.5 * IQR\n",
        "    upper_bound <- Q3 + 1.5 * IQR\n",
        "    x < lower_bound | x > upper_bound\n",
        "  }\n",
        "\n",
        "  # Визуализация выбросов до обработки\n",
        "  p1 <- ggplot(data, aes(x = \"\", y = income_outliers)) +\n",
        "    geom_boxplot() +\n",
        "    labs(title = \"Выбросы до обработки\")\n",
        "\n",
        "  # Обработка выбросов - winsorization\n",
        "  winsorize <- function(x, limits = c(0.05, 0.95)) {\n",
        "    x_quantiles <- quantile(x, limits, na.rm = TRUE)\n",
        "    x[x < x_quantiles[1]] <- x_quantiles[1]\n",
        "    x[x > x_quantiles[2]] <- x_quantiles[2]\n",
        "    return(x)\n",
        "  }\n",
        "\n",
        "  data$income_outliers <- winsorize(data$income_outliers)\n",
        "\n",
        "  p2 <- ggplot(data, aes(x = \"\", y = income_outliers)) +\n",
        "    geom_boxplot() +\n",
        "    labs(title = \"Выбросы после обработки\")\n",
        "\n",
        "  print(p1)\n",
        "  print(p2)\n",
        "\n",
        "  return(data)\n",
        "}\n",
        "\n",
        "clean_data <- handle_outliers(clean_data)"
      ],
      "metadata": {
        "colab": {
          "base_uri": "https://localhost:8080/",
          "height": 1000
        },
        "id": "d9MRkDm0G4my",
        "outputId": "9e1f74f1-0b67-484f-a0a1-1fbdd219ef72"
      },
      "execution_count": 19,
      "outputs": [
        {
          "output_type": "stream",
          "name": "stdout",
          "text": [
            "Пропущенные значения по столбцам:\n",
            "            age          income       education            city purchase_amount \n",
            "              0               0               0               0               0 \n",
            "         age_na income_outliers  duplicate_flag \n",
            "             57               0               0 \n",
            "После обработки пропусков: 996 8 \n"
          ]
        },
        {
          "output_type": "display_data",
          "data": {
            "text/plain": [
              "plot without title"
            ],
            "image/png": "[encoded data removed]"
          },
          "metadata": {
            "image/png": {
              "width": 420,
              "height": 420
            }
          }
        },
        {
          "output_type": "display_data",
          "data": {
            "text/plain": [
              "plot without title"
            ],
            "image/png": "[encoded data removed]"
          },
          "metadata": {
            "image/png": {
              "width": 420,
              "height": 420
            }
          }
        },
        {
          "output_type": "display_data",
          "data": {
            "text/plain": [
              "plot without title"
            ],
            "image/png": "[encoded data removed]"
          },
          "metadata": {
            "image/png": {
              "width": 420,
              "height": 420
            }
          }
        }
      ]
    },
    {
      "cell_type": "code",
      "source": [
        "# 3. УДАЛЕНИЕ ДУБЛИКАТОВ\n",
        "cat(\"Дубликатов до удаления:\", sum(duplicated(clean_data)), \"\\n\")\n",
        "\n",
        "clean_data <- clean_data %>%\n",
        "  distinct()  # Удаляем полные дубликаты\n",
        "\n",
        "# Удаляем дубликаты по ключевым полям\n",
        "clean_data <- clean_data %>%\n",
        "  distinct(age, income, education, city, .keep_all = TRUE)\n",
        "\n",
        "cat(\"Дубликатов после удаления:\", sum(duplicated(clean_data)), \"\\n\")\n",
        "cat(\"Размер после удаления дубликатов:\", dim(clean_data), \"\\n\")\n"
      ],
      "metadata": {
        "colab": {
          "base_uri": "https://localhost:8080/"
        },
        "id": "VynU0WlLG_zu",
        "outputId": "3aef1b58-2323-498f-9fa5-9841b5aa50e9"
      },
      "execution_count": 20,
      "outputs": [
        {
          "output_type": "stream",
          "name": "stdout",
          "text": [
            "Дубликатов до удаления: 19 \n",
            "Дубликатов после удаления: 0 \n",
            "Размер после удаления дубликатов: 977 8 \n"
          ]
        }
      ]
    },
    {
      "cell_type": "code",
      "source": [
        "# 4. КОДИРОВАНИЕ КАТЕГОРИАЛЬНЫХ ПЕРЕМЕННЫХ\n",
        "encode_categorical <- function(data) {\n",
        "  # One-Hot Encoding для номинальных переменных\n",
        "  library(caret)\n",
        "  dummy <- dummyVars(~ city + education, data = data)\n",
        "  encoded_data <- predict(dummy, newdata = data) %>% as.data.frame()\n",
        "\n",
        "  # Объединяем с исходными данными\n",
        "  final_data <- cbind(data %>% select(-city, -education), encoded_data)\n",
        "\n",
        "  cat(\"Размер после кодирования:\", dim(final_data), \"\\n\")\n",
        "\n",
        "  return(final_data)\n",
        "}\n",
        "\n",
        "clean_data_encoded <- encode_categorical(clean_data)\n"
      ],
      "metadata": {
        "colab": {
          "base_uri": "https://localhost:8080/"
        },
        "id": "1sqi-G6qHNFp",
        "outputId": "2baf7d87-0a2f-4429-aed0-58971b89f3ef"
      },
      "execution_count": 21,
      "outputs": [
        {
          "output_type": "stream",
          "name": "stdout",
          "text": [
            "Размер после кодирования: 977 15 \n"
          ]
        }
      ]
    },
    {
      "cell_type": "code",
      "source": [
        "# 5. МАСШТАБИРОВАНИЕ ЧИСЛОВЫХ ПЕРЕМЕННЫХ\n",
        "scale_features <- function(data) {\n",
        "  # Min-Max scaling\n",
        "  min_max_scale <- function(x) {\n",
        "    (x - min(x, na.rm = TRUE)) / (max(x, na.rm = TRUE) - min(x, na.rm = TRUE))\n",
        "  }\n",
        "\n",
        "  # Z-score standardization\n",
        "  z_score_scale <- function(x) {\n",
        "    (x - mean(x, na.rm = TRUE)) / sd(x, na.rm = TRUE)\n",
        "  }\n",
        "\n",
        "  data_scaled <- data %>%\n",
        "    mutate(\n",
        "      income_scaled = min_max_scale(income),\n",
        "      purchase_scaled = z_score_scale(purchase_amount),\n",
        "      age_scaled = min_max_scale(age)\n",
        "    )\n",
        "\n",
        "  # Визуализация результатов масштабирования\n",
        "  library(patchwork)\n",
        "  p1 <- ggplot(data, aes(x = income)) + geom_histogram() + ggtitle(\"До масштабирования\")\n",
        "  p2 <- ggplot(data_scaled, aes(x = income_scaled)) + geom_histogram() + ggtitle(\"После Min-Max\")\n",
        "\n",
        "  print(p1 / p2)\n",
        "\n",
        "  return(data_scaled)\n",
        "}\n",
        "\n",
        "final_data <- scale_features(clean_data_encoded)\n"
      ],
      "metadata": {
        "colab": {
          "base_uri": "https://localhost:8080/",
          "height": 471
        },
        "id": "CxSs2SvjHPci",
        "outputId": "d4c735be-8c0b-4756-a40b-868b44e70165"
      },
      "execution_count": 22,
      "outputs": [
        {
          "output_type": "stream",
          "name": "stderr",
          "text": [
            "\u001b[1m\u001b[22m`stat_bin()` using `bins = 30`. Pick better value with `binwidth`.\n",
            "\u001b[1m\u001b[22m`stat_bin()` using `bins = 30`. Pick better value with `binwidth`.\n"
          ]
        },
        {
          "output_type": "display_data",
          "data": {
            "text/plain": [
              "plot without title"
            ],
            "image/png": "[encoded data removed]"
          },
          "metadata": {
            "image/png": {
              "width": 420,
              "height": 420
            }
          }
        }
      ]
    },
    {
      "cell_type": "code",
      "source": [
        "# 6. ФИНАЛЬНАЯ ПРОВЕРКА И СОХРАНЕНИЕ\n",
        "# Проверка качества предобработки\n",
        "cat(\"\\n=== ФИНАЛЬНАЯ ПРОВЕРКА ===\\n\")\n",
        "cat(\"Пропущенные значения:\", sum(is.na(final_data)), \"\\n\")\n",
        "cat(\"Дубликаты:\", sum(duplicated(final_data)), \"\\n\")\n",
        "cat(\"Размер финального датасета:\", dim(final_data), \"\\n\")\n",
        "cat(\"Структура данных:\\n\")\n",
        "str(final_data %>% select(1:8))\n",
        "\n",
        "# Сохранение обработанных данных\n",
        "write.csv(final_data, \"preprocessed_data.csv\", row.names = FALSE)\n",
        "cat(\"\\nДанные сохранены в 'preprocessed_data.csv'\\n\")# 6. ФИНАЛЬНАЯ ПРОВЕРКА И СОХРАНЕНИЕ\n",
        "# Проверка качества предобработки\n",
        "cat(\"\\n=== ФИНАЛЬНАЯ ПРОВЕРКА ===\\n\")\n",
        "cat(\"Пропущенные значения:\", sum(is.na(final_data)), \"\\n\")\n",
        "cat(\"Дубликаты:\", sum(duplicated(final_data)), \"\\n\")\n",
        "cat(\"Размер финального датасета:\", dim(final_data), \"\\n\")\n",
        "cat(\"Структура данных:\\n\")\n",
        "str(final_data %>% select(1:8))\n",
        "\n",
        "# Сохранение обработанных данных\n",
        "write.csv(final_data, \"preprocessed_data.csv\", row.names = FALSE)\n",
        "cat(\"\\nДанные сохранены в 'preprocessed_data.csv'\\n\")\n"
      ],
      "metadata": {
        "colab": {
          "base_uri": "https://localhost:8080/"
        },
        "id": "ynzksfI6HXpH",
        "outputId": "077d794d-77a3-4b70-8f74-1bc7204ff90f"
      },
      "execution_count": 23,
      "outputs": [
        {
          "output_type": "stream",
          "name": "stdout",
          "text": [
            "\n",
            "=== ФИНАЛЬНАЯ ПРОВЕРКА ===\n",
            "Пропущенные значения: 0 \n",
            "Дубликаты: 0 \n",
            "Размер финального датасета: 977 18 \n",
            "Структура данных:\n",
            "'data.frame':\t977 obs. of  8 variables:\n",
            " $ age            : num  49 29 39 41 39 34 50 34 55 34 ...\n",
            " $ income         : num  84876 57862 64561 55655 35061 ...\n",
            " $ purchase_amount: num  382 245 194 725 309 ...\n",
            " $ age_na         : num  35 26 35 17 51 32 43 13 31 52 ...\n",
            " $ income_outliers: num  44399 43907 56356 65400 55072 ...\n",
            " $ duplicate_flag : int  120 69 78 61 133 133 57 178 103 38 ...\n",
            " $ cityBoston     : num  0 0 1 1 0 0 0 0 1 0 ...\n",
            " $ cityChicago    : num  0 1 0 0 0 0 1 0 0 0 ...\n",
            "\n",
            "Данные сохранены в 'preprocessed_data.csv'\n",
            "\n",
            "=== ФИНАЛЬНАЯ ПРОВЕРКА ===\n",
            "Пропущенные значения: 0 \n",
            "Дубликаты: 0 \n",
            "Размер финального датасета: 977 18 \n",
            "Структура данных:\n",
            "'data.frame':\t977 obs. of  8 variables:\n",
            " $ age            : num  49 29 39 41 39 34 50 34 55 34 ...\n",
            " $ income         : num  84876 57862 64561 55655 35061 ...\n",
            " $ purchase_amount: num  382 245 194 725 309 ...\n",
            " $ age_na         : num  35 26 35 17 51 32 43 13 31 52 ...\n",
            " $ income_outliers: num  44399 43907 56356 65400 55072 ...\n",
            " $ duplicate_flag : int  120 69 78 61 133 133 57 178 103 38 ...\n",
            " $ cityBoston     : num  0 0 1 1 0 0 0 0 1 0 ...\n",
            " $ cityChicago    : num  0 1 0 0 0 0 1 0 0 0 ...\n",
            "\n",
            "Данные сохранены в 'preprocessed_data.csv'\n"
          ]
        }
      ]
    },
    {
      "cell_type": "code",
      "source": [],
      "metadata": {
        "id": "zdnvn8JnMH9O"
      },
      "execution_count": null,
      "outputs": []
    }
  ]
}